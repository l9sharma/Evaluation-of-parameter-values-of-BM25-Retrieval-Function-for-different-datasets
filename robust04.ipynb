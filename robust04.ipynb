{
  "nbformat": 4,
  "nbformat_minor": 0,
  "metadata": {
    "colab": {
      "name": "robust04.ipynb",
      "provenance": []
    },
    "kernelspec": {
      "name": "python3",
      "display_name": "Python 3"
    },
    "language_info": {
      "name": "python"
    }
  },
  "cells": [
    {
      "cell_type": "code",
      "metadata": {
        "colab": {
          "base_uri": "https://localhost:8080/"
        },
        "id": "TXkm0LkqsYTl",
        "outputId": "c25d60ad-7356-43f9-ace4-22365a63302f"
      },
      "source": [
        "pip install pyserini==0.11.0.0"
      ],
      "execution_count": 1,
      "outputs": [
        {
          "output_type": "stream",
          "text": [
            "Collecting pyserini==0.11.0.0\n",
            "\u001b[?25l  Downloading https://files.pythonhosted.org/packages/8b/18/25db00ae1690e5d4f1d6f9c4528d27e31d060d3a468807b33d1bb000c002/pyserini-0.11.0.0-py3-none-any.whl (67.1MB)\n",
            "\u001b[K     |████████████████████████████████| 67.1MB 55kB/s \n",
            "\u001b[?25hRequirement already satisfied: pandas>=1.1.5 in /usr/local/lib/python3.7/dist-packages (from pyserini==0.11.0.0) (1.1.5)\n",
            "Collecting transformers>=4.0.0\n",
            "\u001b[?25l  Downloading https://files.pythonhosted.org/packages/d8/b2/57495b5309f09fa501866e225c84532d1fd89536ea62406b2181933fb418/transformers-4.5.1-py3-none-any.whl (2.1MB)\n",
            "\u001b[K     |████████████████████████████████| 2.1MB 40.8MB/s \n",
            "\u001b[?25hRequirement already satisfied: numpy>=1.18.1 in /usr/local/lib/python3.7/dist-packages (from pyserini==0.11.0.0) (1.19.5)\n",
            "Requirement already satisfied: scipy>=1.4.1 in /usr/local/lib/python3.7/dist-packages (from pyserini==0.11.0.0) (1.4.1)\n",
            "Requirement already satisfied: tensorflow>=2.3.0 in /usr/local/lib/python3.7/dist-packages (from pyserini==0.11.0.0) (2.4.1)\n",
            "Collecting pyjnius>=1.2.1\n",
            "\u001b[?25l  Downloading https://files.pythonhosted.org/packages/ea/b1/e33db12a20efe28b20fbcf4efc9b95a934954587cd7aa5998987a22e8885/pyjnius-1.3.0-cp37-cp37m-manylinux2010_x86_64.whl (1.1MB)\n",
            "\u001b[K     |████████████████████████████████| 1.1MB 39.5MB/s \n",
            "\u001b[?25hCollecting faiss-cpu==1.6.5\n",
            "\u001b[?25l  Downloading https://files.pythonhosted.org/packages/e4/f7/f7814b3ce3855104ee5000e6de975b78c6850c8f9d8db92f9ef308711325/faiss_cpu-1.6.5-cp37-cp37m-manylinux2014_x86_64.whl (7.9MB)\n",
            "\u001b[K     |████████████████████████████████| 7.9MB 866kB/s \n",
            "\u001b[?25hRequirement already satisfied: Cython>=0.29.21 in /usr/local/lib/python3.7/dist-packages (from pyserini==0.11.0.0) (0.29.22)\n",
            "Requirement already satisfied: scikit-learn>=0.22.1 in /usr/local/lib/python3.7/dist-packages (from pyserini==0.11.0.0) (0.22.2.post1)\n",
            "Collecting tqdm>=4.56.0\n",
            "\u001b[?25l  Downloading https://files.pythonhosted.org/packages/72/8a/34efae5cf9924328a8f34eeb2fdaae14c011462d9f0e3fcded48e1266d1c/tqdm-4.60.0-py2.py3-none-any.whl (75kB)\n",
            "\u001b[K     |████████████████████████████████| 81kB 6.1MB/s \n",
            "\u001b[?25hRequirement already satisfied: pytz>=2017.2 in /usr/local/lib/python3.7/dist-packages (from pandas>=1.1.5->pyserini==0.11.0.0) (2018.9)\n",
            "Requirement already satisfied: python-dateutil>=2.7.3 in /usr/local/lib/python3.7/dist-packages (from pandas>=1.1.5->pyserini==0.11.0.0) (2.8.1)\n",
            "Requirement already satisfied: packaging in /usr/local/lib/python3.7/dist-packages (from transformers>=4.0.0->pyserini==0.11.0.0) (20.9)\n",
            "Requirement already satisfied: importlib-metadata; python_version < \"3.8\" in /usr/local/lib/python3.7/dist-packages (from transformers>=4.0.0->pyserini==0.11.0.0) (3.10.1)\n",
            "Requirement already satisfied: filelock in /usr/local/lib/python3.7/dist-packages (from transformers>=4.0.0->pyserini==0.11.0.0) (3.0.12)\n",
            "Requirement already satisfied: regex!=2019.12.17 in /usr/local/lib/python3.7/dist-packages (from transformers>=4.0.0->pyserini==0.11.0.0) (2019.12.20)\n",
            "Requirement already satisfied: requests in /usr/local/lib/python3.7/dist-packages (from transformers>=4.0.0->pyserini==0.11.0.0) (2.23.0)\n",
            "Collecting tokenizers<0.11,>=0.10.1\n",
            "\u001b[?25l  Downloading https://files.pythonhosted.org/packages/ae/04/5b870f26a858552025a62f1649c20d29d2672c02ff3c3fb4c688ca46467a/tokenizers-0.10.2-cp37-cp37m-manylinux2010_x86_64.whl (3.3MB)\n",
            "\u001b[K     |████████████████████████████████| 3.3MB 53.3MB/s \n",
            "\u001b[?25hCollecting sacremoses\n",
            "\u001b[?25l  Downloading https://files.pythonhosted.org/packages/75/ee/67241dc87f266093c533a2d4d3d69438e57d7a90abb216fa076e7d475d4a/sacremoses-0.0.45-py3-none-any.whl (895kB)\n",
            "\u001b[K     |████████████████████████████████| 901kB 71.3MB/s \n",
            "\u001b[?25hRequirement already satisfied: tensorboard~=2.4 in /usr/local/lib/python3.7/dist-packages (from tensorflow>=2.3.0->pyserini==0.11.0.0) (2.4.1)\n",
            "Requirement already satisfied: termcolor~=1.1.0 in /usr/local/lib/python3.7/dist-packages (from tensorflow>=2.3.0->pyserini==0.11.0.0) (1.1.0)\n",
            "Requirement already satisfied: flatbuffers~=1.12.0 in /usr/local/lib/python3.7/dist-packages (from tensorflow>=2.3.0->pyserini==0.11.0.0) (1.12)\n",
            "Requirement already satisfied: wheel~=0.35 in /usr/local/lib/python3.7/dist-packages (from tensorflow>=2.3.0->pyserini==0.11.0.0) (0.36.2)\n",
            "Requirement already satisfied: opt-einsum~=3.3.0 in /usr/local/lib/python3.7/dist-packages (from tensorflow>=2.3.0->pyserini==0.11.0.0) (3.3.0)\n",
            "Requirement already satisfied: wrapt~=1.12.1 in /usr/local/lib/python3.7/dist-packages (from tensorflow>=2.3.0->pyserini==0.11.0.0) (1.12.1)\n",
            "Requirement already satisfied: gast==0.3.3 in /usr/local/lib/python3.7/dist-packages (from tensorflow>=2.3.0->pyserini==0.11.0.0) (0.3.3)\n",
            "Requirement already satisfied: google-pasta~=0.2 in /usr/local/lib/python3.7/dist-packages (from tensorflow>=2.3.0->pyserini==0.11.0.0) (0.2.0)\n",
            "Requirement already satisfied: absl-py~=0.10 in /usr/local/lib/python3.7/dist-packages (from tensorflow>=2.3.0->pyserini==0.11.0.0) (0.12.0)\n",
            "Requirement already satisfied: typing-extensions~=3.7.4 in /usr/local/lib/python3.7/dist-packages (from tensorflow>=2.3.0->pyserini==0.11.0.0) (3.7.4.3)\n",
            "Requirement already satisfied: h5py~=2.10.0 in /usr/local/lib/python3.7/dist-packages (from tensorflow>=2.3.0->pyserini==0.11.0.0) (2.10.0)\n",
            "Requirement already satisfied: protobuf>=3.9.2 in /usr/local/lib/python3.7/dist-packages (from tensorflow>=2.3.0->pyserini==0.11.0.0) (3.12.4)\n",
            "Requirement already satisfied: six~=1.15.0 in /usr/local/lib/python3.7/dist-packages (from tensorflow>=2.3.0->pyserini==0.11.0.0) (1.15.0)\n",
            "Requirement already satisfied: grpcio~=1.32.0 in /usr/local/lib/python3.7/dist-packages (from tensorflow>=2.3.0->pyserini==0.11.0.0) (1.32.0)\n",
            "Requirement already satisfied: astunparse~=1.6.3 in /usr/local/lib/python3.7/dist-packages (from tensorflow>=2.3.0->pyserini==0.11.0.0) (1.6.3)\n",
            "Requirement already satisfied: keras-preprocessing~=1.1.2 in /usr/local/lib/python3.7/dist-packages (from tensorflow>=2.3.0->pyserini==0.11.0.0) (1.1.2)\n",
            "Requirement already satisfied: tensorflow-estimator<2.5.0,>=2.4.0 in /usr/local/lib/python3.7/dist-packages (from tensorflow>=2.3.0->pyserini==0.11.0.0) (2.4.0)\n",
            "Requirement already satisfied: joblib>=0.11 in /usr/local/lib/python3.7/dist-packages (from scikit-learn>=0.22.1->pyserini==0.11.0.0) (1.0.1)\n",
            "Requirement already satisfied: pyparsing>=2.0.2 in /usr/local/lib/python3.7/dist-packages (from packaging->transformers>=4.0.0->pyserini==0.11.0.0) (2.4.7)\n",
            "Requirement already satisfied: zipp>=0.5 in /usr/local/lib/python3.7/dist-packages (from importlib-metadata; python_version < \"3.8\"->transformers>=4.0.0->pyserini==0.11.0.0) (3.4.1)\n",
            "Requirement already satisfied: urllib3!=1.25.0,!=1.25.1,<1.26,>=1.21.1 in /usr/local/lib/python3.7/dist-packages (from requests->transformers>=4.0.0->pyserini==0.11.0.0) (1.24.3)\n",
            "Requirement already satisfied: idna<3,>=2.5 in /usr/local/lib/python3.7/dist-packages (from requests->transformers>=4.0.0->pyserini==0.11.0.0) (2.10)\n",
            "Requirement already satisfied: certifi>=2017.4.17 in /usr/local/lib/python3.7/dist-packages (from requests->transformers>=4.0.0->pyserini==0.11.0.0) (2020.12.5)\n",
            "Requirement already satisfied: chardet<4,>=3.0.2 in /usr/local/lib/python3.7/dist-packages (from requests->transformers>=4.0.0->pyserini==0.11.0.0) (3.0.4)\n",
            "Requirement already satisfied: click in /usr/local/lib/python3.7/dist-packages (from sacremoses->transformers>=4.0.0->pyserini==0.11.0.0) (7.1.2)\n",
            "Requirement already satisfied: werkzeug>=0.11.15 in /usr/local/lib/python3.7/dist-packages (from tensorboard~=2.4->tensorflow>=2.3.0->pyserini==0.11.0.0) (1.0.1)\n",
            "Requirement already satisfied: tensorboard-plugin-wit>=1.6.0 in /usr/local/lib/python3.7/dist-packages (from tensorboard~=2.4->tensorflow>=2.3.0->pyserini==0.11.0.0) (1.8.0)\n",
            "Requirement already satisfied: google-auth-oauthlib<0.5,>=0.4.1 in /usr/local/lib/python3.7/dist-packages (from tensorboard~=2.4->tensorflow>=2.3.0->pyserini==0.11.0.0) (0.4.4)\n",
            "Requirement already satisfied: google-auth<2,>=1.6.3 in /usr/local/lib/python3.7/dist-packages (from tensorboard~=2.4->tensorflow>=2.3.0->pyserini==0.11.0.0) (1.28.1)\n",
            "Requirement already satisfied: markdown>=2.6.8 in /usr/local/lib/python3.7/dist-packages (from tensorboard~=2.4->tensorflow>=2.3.0->pyserini==0.11.0.0) (3.3.4)\n",
            "Requirement already satisfied: setuptools>=41.0.0 in /usr/local/lib/python3.7/dist-packages (from tensorboard~=2.4->tensorflow>=2.3.0->pyserini==0.11.0.0) (56.0.0)\n",
            "Requirement already satisfied: requests-oauthlib>=0.7.0 in /usr/local/lib/python3.7/dist-packages (from google-auth-oauthlib<0.5,>=0.4.1->tensorboard~=2.4->tensorflow>=2.3.0->pyserini==0.11.0.0) (1.3.0)\n",
            "Requirement already satisfied: cachetools<5.0,>=2.0.0 in /usr/local/lib/python3.7/dist-packages (from google-auth<2,>=1.6.3->tensorboard~=2.4->tensorflow>=2.3.0->pyserini==0.11.0.0) (4.2.1)\n",
            "Requirement already satisfied: rsa<5,>=3.1.4; python_version >= \"3.6\" in /usr/local/lib/python3.7/dist-packages (from google-auth<2,>=1.6.3->tensorboard~=2.4->tensorflow>=2.3.0->pyserini==0.11.0.0) (4.7.2)\n",
            "Requirement already satisfied: pyasn1-modules>=0.2.1 in /usr/local/lib/python3.7/dist-packages (from google-auth<2,>=1.6.3->tensorboard~=2.4->tensorflow>=2.3.0->pyserini==0.11.0.0) (0.2.8)\n",
            "Requirement already satisfied: oauthlib>=3.0.0 in /usr/local/lib/python3.7/dist-packages (from requests-oauthlib>=0.7.0->google-auth-oauthlib<0.5,>=0.4.1->tensorboard~=2.4->tensorflow>=2.3.0->pyserini==0.11.0.0) (3.1.0)\n",
            "Requirement already satisfied: pyasn1>=0.1.3 in /usr/local/lib/python3.7/dist-packages (from rsa<5,>=3.1.4; python_version >= \"3.6\"->google-auth<2,>=1.6.3->tensorboard~=2.4->tensorflow>=2.3.0->pyserini==0.11.0.0) (0.4.8)\n",
            "Installing collected packages: tokenizers, tqdm, sacremoses, transformers, pyjnius, faiss-cpu, pyserini\n",
            "  Found existing installation: tqdm 4.41.1\n",
            "    Uninstalling tqdm-4.41.1:\n",
            "      Successfully uninstalled tqdm-4.41.1\n",
            "Successfully installed faiss-cpu-1.6.5 pyjnius-1.3.0 pyserini-0.11.0.0 sacremoses-0.0.45 tokenizers-0.10.2 tqdm-4.60.0 transformers-4.5.1\n"
          ],
          "name": "stdout"
        }
      ]
    },
    {
      "cell_type": "code",
      "metadata": {
        "id": "8Vs1ek1Nr7u7"
      },
      "source": [
        "%%capture\n",
        "!apt-get install maven -qq"
      ],
      "execution_count": 2,
      "outputs": []
    },
    {
      "cell_type": "code",
      "metadata": {
        "id": "UALyXS8Vr7rZ"
      },
      "source": [
        "%%capture\n",
        "!git clone --recurse-submodules https://github.com/castorini/anserini.git\n",
        "%cd anserini\n",
        "!cd tools/eval && tar xvfz trec_eval.9.0.4.tar.gz && cd trec_eval.9.0.4 && make && cd ../../..\n",
        "!mvn clean package appassembler:assemble -DskipTests -Dmaven.javadoc.skip=true"
      ],
      "execution_count": 3,
      "outputs": []
    },
    {
      "cell_type": "code",
      "metadata": {
        "colab": {
          "base_uri": "https://localhost:8080/"
        },
        "id": "qnWWCp9qr7o5",
        "outputId": "5a4c2546-c4bb-469b-b734-1a39c7470c0b"
      },
      "source": [
        "!ls target"
      ],
      "execution_count": 4,
      "outputs": [
        {
          "output_type": "stream",
          "text": [
            "anserini-0.11.1-SNAPSHOT-fatjar.jar  classes\t\t     maven-archiver\n",
            "anserini-0.11.1-SNAPSHOT.jar\t     generated-sources\t     maven-status\n",
            "appassembler\t\t\t     generated-test-sources  test-classes\n"
          ],
          "name": "stdout"
        }
      ]
    },
    {
      "cell_type": "code",
      "metadata": {
        "id": "7iWvhdFnr7mw"
      },
      "source": [
        "%%capture\n",
        "!wget https://git.uwaterloo.ca/jimmylin/anserini-indexes/raw/master/index-robust04-20191213.tar.gz\n",
        "!tar xvfz index-robust04-20191213.tar.gz -C indexes/"
      ],
      "execution_count": 5,
      "outputs": []
    },
    {
      "cell_type": "code",
      "metadata": {
        "colab": {
          "base_uri": "https://localhost:8080/"
        },
        "id": "UV3RJOBZr7kF",
        "outputId": "d27c1800-8124-48cf-b77f-7c1b672a23a1"
      },
      "source": [
        "!du -h indexes/index-robust04-20191213"
      ],
      "execution_count": 6,
      "outputs": [
        {
          "output_type": "stream",
          "text": [
            "2.1G\tindexes/index-robust04-20191213\n"
          ],
          "name": "stdout"
        }
      ]
    },
    {
      "cell_type": "code",
      "metadata": {
        "colab": {
          "base_uri": "https://localhost:8080/"
        },
        "id": "HegNJjd3aXuk",
        "outputId": "149d673b-9bf8-4ad5-da4d-de6488328efc"
      },
      "source": [
        "%%script bash\n",
        "cd tools/topics-and-qrels/\n",
        "ls"
      ],
      "execution_count": 7,
      "outputs": [
        {
          "output_type": "stream",
          "text": [
            "docids.covid.round1.txt\n",
            "docids.covid.round2.txt\n",
            "docids.covid.round3.txt\n",
            "docids.covid.round4.txt\n",
            "docids.covid.round5.txt\n",
            "prels.mq.10001-20000.txt\n",
            "prels.mq.1-10000.txt\n",
            "prels.mq.20001-60000.txt\n",
            "prels.web.1-50.txt\n",
            "qrels.adhoc.101-150.txt\n",
            "qrels.adhoc.151-200.txt\n",
            "qrels.adhoc.401-450.txt\n",
            "qrels.adhoc.451-550.txt\n",
            "qrels.adhoc.51-100.txt\n",
            "qrels.backgroundlinking18.txt\n",
            "qrels.backgroundlinking19.txt\n",
            "qrels.cacm.txt\n",
            "qrels.car17v1.5.benchmarkY1test.txt\n",
            "qrels.car17v2.0.benchmarkY1test.txt\n",
            "qrels.clef06fr.txt\n",
            "qrels.core17.txt\n",
            "qrels.core18.txt\n",
            "qrels.covid-complete.txt\n",
            "qrels.covid-round12.txt\n",
            "qrels.covid-round1.txt\n",
            "qrels.covid-round2-cumulative.txt\n",
            "qrels.covid-round2.txt\n",
            "qrels.covid-round3-cumulative.txt\n",
            "qrels.covid-round3.txt\n",
            "qrels.covid-round4-cumulative.txt\n",
            "qrels.covid-round4.txt\n",
            "qrels.covid-round5.txt\n",
            "qrels.dl19-doc.txt\n",
            "qrels.dl19-passage.txt\n",
            "qrels.dl20-doc.txt\n",
            "qrels.dl20-passage.txt\n",
            "qrels.fire12bn.176-225.txt\n",
            "qrels.fire12en.176-225.txt\n",
            "qrels.fire12hi.176-225.txt\n",
            "qrels.microblog2011.txt\n",
            "qrels.microblog2012.txt\n",
            "qrels.microblog2013.txt\n",
            "qrels.microblog2014.txt\n",
            "qrels.msmarco-doc.dev.txt\n",
            "qrels.msmarco-passage.dev-subset.txt\n",
            "qrels.ntcir8.eval.txt\n",
            "qrels.robust04.txt\n",
            "qrels.robust05.txt\n",
            "qrels.terabyte04.701-750.txt\n",
            "qrels.terabyte05.751-800.txt\n",
            "qrels.terabyte06.801-850.txt\n",
            "qrels.trec02ar.txt\n",
            "qrels.web.101-150.txt\n",
            "qrels.web.151-200.txt\n",
            "qrels.web.201-250.ndeval.txt\n",
            "qrels.web.201-250.txt\n",
            "qrels.web.251-300.ndeval.txt\n",
            "qrels.web.251-300.txt\n",
            "qrels.web.51-100.txt\n",
            "topics.adhoc.101-150.txt\n",
            "topics.adhoc.151-200.txt\n",
            "topics.adhoc.401-450.txt\n",
            "topics.adhoc.451-550.txt\n",
            "topics.adhoc.51-100.txt\n",
            "topics.backgroundlinking18.txt\n",
            "topics.backgroundlinking19.txt\n",
            "topics.cacm.txt\n",
            "topics.car17v1.5.benchmarkY1test.txt\n",
            "topics.car17v2.0.benchmarkY1test.txt\n",
            "topics.clef06fr.mono.fr.txt\n",
            "topics.clef06fr.x2fr.bg.txt\n",
            "topics.clef06fr.x2fr.de.txt\n",
            "topics.clef06fr.x2fr.en.txt\n",
            "topics.clef06fr.x2fr.es.txt\n",
            "topics.clef06fr.x2fr.hi.txt\n",
            "topics.clef06fr.x2fr.hu.txt\n",
            "topics.clef06fr.x2fr.id.txt\n",
            "topics.clef06fr.x2fr.it.txt\n",
            "topics.clef06fr.x2fr.om.txt\n",
            "topics.clef06fr.x2fr.pt.txt\n",
            "topics.clef06fr.x2fr.te.txt\n",
            "topics.clef06fr.x2fr.zh.txt\n",
            "topics.core17.txt\n",
            "topics.core18.txt\n",
            "topics.covid-round1-udel.xml\n",
            "topics.covid-round1.xml\n",
            "topics.covid-round2-udel.xml\n",
            "topics.covid-round2.xml\n",
            "topics.covid-round3-udel.xml\n",
            "topics.covid-round3.xml\n",
            "topics.covid-round4-udel.xml\n",
            "topics.covid-round4.xml\n",
            "topics.covid-round5-udel.xml\n",
            "topics.covid-round5.xml\n",
            "topics.dl19-doc.txt\n",
            "topics.dl19-passage.txt\n",
            "topics.dl20.txt\n",
            "topics.epidemic-qa.consumer.prelim.json\n",
            "topics.epidemic-qa.consumer.primary.json\n",
            "topics.epidemic-qa.expert.prelim.json\n",
            "topics.epidemic-qa.expert.primary.json\n",
            "topics.fire12bn.176-225.txt\n",
            "topics.fire12en.176-225.txt\n",
            "topics.fire12hi.176-225.txt\n",
            "topics.microblog2011.txt\n",
            "topics.microblog2012.txt\n",
            "topics.microblog2013.txt\n",
            "topics.microblog2014.txt\n",
            "topics.mq.10001-20000.txt\n",
            "topics.mq.1-10000.txt\n",
            "topics.mq.20001-60000.txt\n",
            "topics.msmarco-doc.dev.txt\n",
            "topics.msmarco-doc.test.txt\n",
            "topics.msmarco-passage.dev-subset.txt\n",
            "topics.msmarco-passage.test-subset.txt\n",
            "topics.ntcir8en.eval.txt\n",
            "topics.ntcir8zh.eval.txt\n",
            "topics.robust04.txt\n",
            "topics.robust05.txt\n",
            "topics.terabyte04.701-750.txt\n",
            "topics.terabyte05.751-800.txt\n",
            "topics.terabyte05.efficiency.txt\n",
            "topics.terabyte06.801-850.txt\n",
            "topics.trec02ar-ar.txt\n",
            "topics.trec02ar-en.txt\n",
            "topics.web.101-150.txt\n",
            "topics.web.1-50.txt\n",
            "topics.web.151-200.txt\n",
            "topics.web.201-250.txt\n",
            "topics.web.251-300.txt\n",
            "topics.web.51-100.txt\n",
            "topics.www1.english.txt\n",
            "topics.www2.english.txt\n"
          ],
          "name": "stdout"
        }
      ]
    },
    {
      "cell_type": "code",
      "metadata": {
        "colab": {
          "base_uri": "https://localhost:8080/"
        },
        "id": "2EyWuwuiu1s7",
        "outputId": "d03e6601-49d9-4098-df89-480010b30c61"
      },
      "source": [
        "%%script bash\n",
        "python -m pyserini.search --topics robust04 \\\n",
        " --index indexes/index-robust04-20191213 \\\n",
        " --output runs/run.robust04.bm25tuned.txt \\\n",
        " --bm25 --hits 100 --k1 0.9 --b 0.4"
      ],
      "execution_count": 8,
      "outputs": [
        {
          "output_type": "stream",
          "text": [
            "Setting BM25 parameters: k1=0.9, b=0.4\n",
            "Running robust04 topics, saving to runs/run.robust04.bm25tuned.txt...\n"
          ],
          "name": "stdout"
        },
        {
          "output_type": "stream",
          "text": [
            "\r  0%|          | 0/250 [00:00<?, ?it/s]\r  0%|          | 1/250 [00:00<00:56,  4.44it/s]\r  1%|          | 3/250 [00:00<00:25,  9.65it/s]\r  2%|▏         | 6/250 [00:00<00:15, 15.57it/s]\r  4%|▍         | 10/250 [00:00<00:10, 22.14it/s]\r  7%|▋         | 18/250 [00:00<00:06, 36.85it/s]\r  9%|▉         | 22/250 [00:00<00:06, 35.17it/s]\r 11%|█         | 28/250 [00:00<00:05, 40.25it/s]\r 13%|█▎        | 33/250 [00:01<00:05, 40.25it/s]\r 15%|█▌        | 38/250 [00:01<00:05, 40.38it/s]\r 17%|█▋        | 43/250 [00:01<00:05, 41.26it/s]\r 20%|██        | 50/250 [00:01<00:04, 46.37it/s]\r 22%|██▏       | 56/250 [00:01<00:03, 48.64it/s]\r 25%|██▌       | 63/250 [00:01<00:03, 52.86it/s]\r 28%|██▊       | 70/250 [00:01<00:03, 56.56it/s]\r 30%|███       | 76/250 [00:01<00:03, 54.87it/s]\r 33%|███▎      | 83/250 [00:01<00:02, 57.83it/s]\r 36%|███▌      | 89/250 [00:02<00:02, 55.35it/s]\r 38%|███▊      | 95/250 [00:02<00:02, 55.84it/s]\r 41%|████      | 102/250 [00:02<00:02, 57.85it/s]\r 44%|████▎     | 109/250 [00:02<00:02, 60.58it/s]\r 46%|████▋     | 116/250 [00:02<00:02, 63.18it/s]\r 50%|█████     | 125/250 [00:02<00:01, 68.90it/s]\r 54%|█████▎    | 134/250 [00:02<00:01, 72.84it/s]\r 57%|█████▋    | 142/250 [00:02<00:01, 71.31it/s]\r 60%|██████    | 151/250 [00:02<00:01, 75.61it/s]\r 64%|██████▎   | 159/250 [00:03<00:01, 73.34it/s]\r 67%|██████▋   | 167/250 [00:03<00:01, 74.10it/s]\r 70%|███████   | 175/250 [00:03<00:01, 72.98it/s]\r 73%|███████▎  | 183/250 [00:03<00:00, 74.81it/s]\r 77%|███████▋  | 192/250 [00:03<00:00, 77.67it/s]\r 80%|████████  | 201/250 [00:03<00:00, 80.17it/s]\r 84%|████████▍ | 211/250 [00:03<00:00, 85.39it/s]\r 88%|████████▊ | 220/250 [00:03<00:00, 79.11it/s]\r 92%|█████████▏| 230/250 [00:03<00:00, 82.03it/s]\r 96%|█████████▌| 239/250 [00:04<00:00, 79.67it/s]\r100%|█████████▉| 249/250 [00:04<00:00, 82.95it/s]\r100%|██████████| 250/250 [00:04<00:00, 59.48it/s]\n"
          ],
          "name": "stderr"
        }
      ]
    },
    {
      "cell_type": "code",
      "metadata": {
        "colab": {
          "base_uri": "https://localhost:8080/"
        },
        "id": "a1Ue6GkDcjY6",
        "outputId": "2bb1495a-cc03-4391-9c7a-26081c150f06"
      },
      "source": [
        "%%script bash\n",
        "python -m pyserini.search --topics robust04 \\\n",
        " --index indexes/index-robust04-20191213 \\\n",
        " --output runs/run.robust04.bm25tuned.txt \\\n",
        " --bm25 --hits 100 "
      ],
      "execution_count": 12,
      "outputs": [
        {
          "output_type": "stream",
          "text": [
            "Running robust04 topics, saving to runs/run.robust04.bm25tuned.txt...\n"
          ],
          "name": "stdout"
        },
        {
          "output_type": "stream",
          "text": [
            "\r  0%|          | 0/250 [00:00<?, ?it/s]\r  0%|          | 1/250 [00:00<01:11,  3.50it/s]\r  2%|▏         | 4/250 [00:00<00:22, 11.16it/s]\r  2%|▏         | 6/250 [00:00<00:18, 13.10it/s]\r  4%|▎         | 9/250 [00:00<00:13, 17.54it/s]\r  5%|▍         | 12/250 [00:00<00:11, 21.10it/s]\r  6%|▋         | 16/250 [00:00<00:09, 25.48it/s]\r  8%|▊         | 19/250 [00:00<00:09, 24.41it/s]\r  9%|▉         | 23/250 [00:01<00:08, 27.62it/s]\r 11%|█         | 28/250 [00:01<00:06, 32.95it/s]\r 13%|█▎        | 32/250 [00:01<00:07, 29.93it/s]\r 14%|█▍        | 36/250 [00:01<00:07, 29.85it/s]\r 16%|█▋        | 41/250 [00:01<00:06, 33.80it/s]\r 18%|█▊        | 46/250 [00:01<00:05, 36.84it/s]\r 20%|██        | 51/250 [00:01<00:05, 39.77it/s]\r 22%|██▏       | 56/250 [00:01<00:05, 36.91it/s]\r 24%|██▍       | 61/250 [00:02<00:04, 38.87it/s]\r 27%|██▋       | 67/250 [00:02<00:04, 44.18it/s]\r 29%|██▉       | 72/250 [00:02<00:04, 42.39it/s]\r 31%|███       | 78/250 [00:02<00:03, 45.73it/s]\r 34%|███▍      | 85/250 [00:02<00:03, 50.54it/s]\r 36%|███▋      | 91/250 [00:02<00:03, 52.17it/s]\r 39%|███▉      | 98/250 [00:02<00:02, 56.51it/s]\r 42%|████▏     | 106/250 [00:02<00:02, 61.06it/s]\r 45%|████▌     | 113/250 [00:02<00:02, 61.38it/s]\r 48%|████▊     | 120/250 [00:03<00:02, 60.40it/s]\r 51%|█████     | 127/250 [00:03<00:02, 57.83it/s]\r 53%|█████▎    | 133/250 [00:03<00:02, 57.67it/s]\r 56%|█████▌    | 139/250 [00:03<00:01, 57.65it/s]\r 58%|█████▊    | 146/250 [00:03<00:01, 59.18it/s]\r 61%|██████    | 153/250 [00:03<00:01, 61.33it/s]\r 64%|██████▍   | 160/250 [00:03<00:01, 58.08it/s]\r 67%|██████▋   | 168/250 [00:03<00:01, 63.17it/s]\r 70%|███████   | 176/250 [00:04<00:01, 65.95it/s]\r 74%|███████▎  | 184/250 [00:04<00:00, 68.05it/s]\r 76%|███████▋  | 191/250 [00:04<00:00, 67.86it/s]\r 80%|███████▉  | 199/250 [00:04<00:00, 69.42it/s]\r 83%|████████▎ | 207/250 [00:04<00:00, 69.99it/s]\r 86%|████████▌ | 215/250 [00:04<00:00, 69.41it/s]\r 89%|████████▉ | 223/250 [00:04<00:00, 70.39it/s]\r 92%|█████████▏| 231/250 [00:04<00:00, 68.98it/s]\r 95%|█████████▌| 238/250 [00:04<00:00, 67.45it/s]\r 98%|█████████▊| 245/250 [00:05<00:00, 65.75it/s]\r100%|██████████| 250/250 [00:05<00:00, 48.89it/s]\n"
          ],
          "name": "stderr"
        }
      ]
    },
    {
      "cell_type": "code",
      "metadata": {
        "colab": {
          "base_uri": "https://localhost:8080/"
        },
        "id": "3i5X1z13v7zx",
        "outputId": "65046791-17e9-4570-acd6-e4ffa67f4de7"
      },
      "source": [
        "%%script bash\n",
        "cd runs/\n",
        "ls"
      ],
      "execution_count": 13,
      "outputs": [
        {
          "output_type": "stream",
          "text": [
            "run.robust04.bm25tuned.txt\n"
          ],
          "name": "stdout"
        }
      ]
    },
    {
      "cell_type": "code",
      "metadata": {
        "colab": {
          "base_uri": "https://localhost:8080/"
        },
        "id": "_u0T-ncAvEy2",
        "outputId": "b7ceb40e-bfab-4cd2-c23a-458e8a32e1e6"
      },
      "source": [
        "%%script bash\n",
        "cd indexes/index-robust04-20191213/\n",
        "ls"
      ],
      "execution_count": 10,
      "outputs": [
        {
          "output_type": "stream",
          "text": [
            "_h.fdt\n",
            "_h.fdx\n",
            "_h.fnm\n",
            "_h_Lucene50_0.doc\n",
            "_h_Lucene50_0.pos\n",
            "_h_Lucene50_0.tim\n",
            "_h_Lucene50_0.tip\n",
            "_h_Lucene80_0.dvd\n",
            "_h_Lucene80_0.dvm\n",
            "_h.nvd\n",
            "_h.nvm\n",
            "_h.si\n",
            "_h.tvd\n",
            "_h.tvx\n",
            "segments_2\n",
            "write.lock\n"
          ],
          "name": "stdout"
        }
      ]
    },
    {
      "cell_type": "code",
      "metadata": {
        "colab": {
          "base_uri": "https://localhost:8080/"
        },
        "id": "hGYezMiesgtK",
        "outputId": "2634ce15-5739-4159-98e6-6dfc149ca466"
      },
      "source": [
        "!tools/eval/trec_eval.9.0.4/trec_eval -c -mrecall.100 -mmap -mndcg tools/topics-and-qrels/qrels.robust04.txt runs/run.robust04.bm25tuned.txt"
      ],
      "execution_count": 14,
      "outputs": [
        {
          "output_type": "stream",
          "text": [
            "map                   \tall\t0.2154\n",
            "recall_100            \tall\t0.4137\n",
            "ndcg                  \tall\t0.3909\n"
          ],
          "name": "stdout"
        }
      ]
    },
    {
      "cell_type": "code",
      "metadata": {
        "id": "4pEMKGLtr7dS"
      },
      "source": [
        ""
      ],
      "execution_count": null,
      "outputs": []
    },
    {
      "cell_type": "code",
      "metadata": {
        "id": "-D7Z0HAUtb1q"
      },
      "source": [
        ""
      ],
      "execution_count": null,
      "outputs": []
    },
    {
      "cell_type": "code",
      "metadata": {
        "id": "NZPzaou-tbzR"
      },
      "source": [
        ""
      ],
      "execution_count": null,
      "outputs": []
    },
    {
      "cell_type": "code",
      "metadata": {
        "id": "8wcg4LvFtbwt"
      },
      "source": [
        ""
      ],
      "execution_count": null,
      "outputs": []
    },
    {
      "cell_type": "code",
      "metadata": {
        "id": "2AIP8uqQtbuW"
      },
      "source": [
        ""
      ],
      "execution_count": null,
      "outputs": []
    },
    {
      "cell_type": "code",
      "metadata": {
        "id": "1088Lzijtbrn"
      },
      "source": [
        ""
      ],
      "execution_count": null,
      "outputs": []
    }
  ]
}